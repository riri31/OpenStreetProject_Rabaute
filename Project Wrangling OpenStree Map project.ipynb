{
 "cells": [
  {
   "cell_type": "markdown",
   "metadata": {},
   "source": [
    "# Project Wrangling:  Open Stree Map project"
   ]
  },
  {
   "cell_type": "markdown",
   "metadata": {},
   "source": [
    "<p><span style=\"text-decoration: underline;\"><strong>Objectives:</strong></span></p>\n",
    "<ul>\n",
    "<li>This project plans to get a dataset from Open Street, to clean it and to import into a Data Base (SQLite for me)</li>\n",
    "<li>Then the data will be analysed and observations reported into this document</li>\n",
    "<li>Observations that could lead to dataset corrections will be reinjected into data import step</li>\n",
    "<li>A last anaylysis will be done on the cleaned data</li>\n",
    "</ul>"
   ]
  },
  {
   "cell_type": "markdown",
   "metadata": {},
   "source": [
    "<p><span style=\"text-decoration: underline;\"><strong>Material</strong></span>:</p>\n",
    "<p><span style=\"color: #0000ff;\">&nbsp;&nbsp;&nbsp; Map Area: <em>Colomiers, Occitanie, France. This the place where I live.</em><br /><em>&nbsp;&nbsp;&nbsp; (This map has been extracted from Metro extracts.The file size is around 58 MB.)</em></span></p>\n",
    "<p>The tools used for the analysis are:</p>\n",
    "<ul>\n",
    "<li>&nbsp;Python as coding language</li>\n",
    "<li>Jupyter for code editing + analysis report</li>\n",
    "<li>SQLite for Data Base</li>\n",
    "</ul>\n"
   ]
  },
  {
   "cell_type": "markdown",
   "metadata": {},
   "source": [
    "## 1) First observations on data set"
   ]
  },
  {
   "cell_type": "markdown",
   "metadata": {},
   "source": [
    "In a first step, I'm checking structure of the dataset with a sample function (given in Udacity instructions).\n",
    "\n",
    "The output is an XML file that I'm checking with a simple tool like Notepad++."
   ]
  },
  {
   "cell_type": "code",
   "execution_count": 1,
   "metadata": {
    "collapsed": false
   },
   "outputs": [],
   "source": [
    "#!/usr/bin/env python\n",
    "# -*- coding: utf-8 -*-\n",
    "\n",
    "import xml.etree.ElementTree as ET  # Use cElementTree or lxml if too slow\n",
    "\n",
    "OSM_FILE = \"Colomiers.osm\"  # Replace this with your osm file\n",
    "SAMPLE_FILE = \"sample.osm\"\n",
    "\n",
    "k = 2 # Parameter: take every k-th top level element\n",
    "\n",
    "def get_element(osm_file, tags=( 'node','way', 'relation')):\n",
    "    \"\"\"Yield element if it is the right type of tag\n",
    "\n",
    "    Reference:\n",
    "    http://stackoverflow.com/questions/3095434/inserting-newlines-in-xml-file-generated-via-xml-etree-elementtree-in-python\n",
    "    \"\"\"\n",
    "    context = iter(ET.iterparse(osm_file, events=('start', 'end')))\n",
    "    _, root = next(context)\n",
    "    for event, elem in context:\n",
    "        if event == 'end' and elem.tag in tags:\n",
    "            yield elem\n",
    "            root.clear()\n",
    "\n",
    "\n",
    "with open(SAMPLE_FILE, 'wb') as output:\n",
    "    output.write('<?xml version=\"1.0\" encoding=\"UTF-8\"?>\\n')\n",
    "    output.write('<osm>\\n  ')\n",
    "\n",
    "    # Write every kth top level element\n",
    "    for i, element in enumerate(get_element(OSM_FILE)):\n",
    "        if i % k == 0:\n",
    "            output.write(ET.tostring(element, encoding='utf-8'))\n",
    "\n",
    "    output.write('</osm>')"
   ]
  },
  {
   "cell_type": "markdown",
   "metadata": {},
   "source": [
    "<p><span style=\"text-decoration: underline;\"><strong>Example of Node:</strong></span>:</p>\n",
    "<p>&nbsp;&lt;node changeset=\"30514765\" id=\"339791273\" lat=\"43.6149147\" lon=\"1.3294562\" timestamp=\"2015-04-26T21:04:24Z\" uid=\"1626\" user=\"FredB\" version=\"6\"&gt;<br />&nbsp;&nbsp;&lt;tag k=\"name\" v=\"Pharmacie du Prat\" /&gt;<br />&nbsp;&nbsp;&lt;tag k=\"source\" v=\"Celtipharm - 10/2014\" /&gt;<br />&nbsp;&nbsp;&lt;tag k=\"amenity\" v=\"pharmacy\" /&gt;<br />&nbsp;&nbsp;&lt;tag k=\"dispensing\" v=\"yes\" /&gt;<br />&nbsp;&nbsp;&lt;tag k=\"wheelchair\" v=\"yes\" /&gt;<br />&nbsp;&nbsp;&lt;tag k=\"ref:FR:FINESS\" v=\"310008230\" /&gt;</p>"
   ]
  },
  {
   "cell_type": "markdown",
   "metadata": {},
   "source": [
    "<p><span style=\"text-decoration: underline;\"><strong>Example of Way point:</strong></span>:</p>\n",
    "\n",
    "<p>&nbsp;&lt;way changeset=\"20389389\" id=\"35773868\" timestamp=\"2014-02-05T11:41:35Z\" uid=\"149399\" user=\"awikatchikaen\" version=\"5\"&gt;<br />&nbsp;&nbsp;&lt;nd ref=\"418245304\" /&gt;<br />&nbsp;&nbsp;&lt;nd ref=\"418245306\" /&gt;<br />&nbsp;&nbsp;&lt;nd ref=\"418245307\" /&gt;<br />&nbsp;&nbsp;&lt;nd ref=\"418245309\" /&gt;<br />&nbsp;&nbsp;&lt;nd ref=\"418245311\" /&gt;<br />&nbsp;&nbsp;&lt;nd ref=\"2280539648\" /&gt;<br />&nbsp;&nbsp;&lt;nd ref=\"2655807950\" /&gt;<br />&nbsp;&nbsp;&lt;tag k=\"highway\" v=\"path\" /&gt;<br />&nbsp;&lt;/way&gt;</p>"
   ]
  },
  {
   "cell_type": "markdown",
   "metadata": {},
   "source": [
    "The first observations enabled me to understand structure of XML file and to get a smaller extract of OSM data than original dataset.\n",
    "\n",
    "I tested all my code against this sample data each time I could to minimize computing time."
   ]
  },
  {
   "cell_type": "markdown",
   "metadata": {},
   "source": [
    "# 2 ) Problems observed in the sample"
   ]
  },
  {
   "cell_type": "markdown",
   "metadata": {},
   "source": [
    "<p>Thanks to the sample, the following issues could be quickly raised:</p>\n",
    "<ul>\n",
    "<li>tag properties are <strong><span style=\"color: #0000ff;\">k</span></strong> and <strong><span style=\"color: #0000ff;\">v</span></strong> whereas <strong><span style=\"color: #0000ff;\">key</span> </strong>and <strong><span style=\"color: #0000ff;\">value</span> </strong>are requested in SQL schema</li>\n",
    "<li>Type of tags are under the format:\n",
    "<ul>\n",
    "<li>&lt;tag k=\"<strong><span style=\"color: #0000ff;\">addr</span></strong>:city\" v=\"Tournefeuille\" /&gt;</li>\n",
    "<li>The type is <span style=\"color: #0000ff;\"><strong>addr</strong> </span>(ie. address)</li>\n",
    "<li>That means processing is required to extract the from tag key</li>\n",
    "</ul>\n",
    "</li>\n",
    "<li>Problem of case sensitiveness for City: <span style=\"color: #0000ff;\">'<strong>COLOMIERS</strong>'</span> and <span style=\"color: #0000ff;\">'<strong>Colomiers</strong>'</span></li>\n",
    "<li>Same for street types: <span style=\"color: #0000ff;\">'<strong>PLACE</strong>'</span> and <span style=\"color: #0000ff;\">'<strong>Place</strong>'</span></li>\n",
    "<li>Date of source data are present in two fields:\n",
    "<ul>\n",
    "<li>&lt;tag k=\"source_date\" v=\"<span style=\"color: #0000ff;\"><strong>04/04/2012</strong></span>\" /&gt;</li>\n",
    "<li>&lt;tag k=\"source\" v=\"cadastre-dgi-fr source : Direction G&eacute;n&eacute;rale des Imp&ocirc;ts - Cadastre. Mise &agrave; jour : <span style=\"color: #0000ff;\"><strong>2009</strong></span>\" /&gt;</li>\n",
    "</ul>\n",
    "</li>\n",
    "</ul>"
   ]
  },
  {
   "cell_type": "markdown",
   "metadata": {},
   "source": [
    "## 3) Creation of CSV files"
   ]
  },
  {
   "cell_type": "markdown",
   "metadata": {
    "collapsed": true
   },
   "source": [
    "<p>Before cleaning the data. I decided to create csv file related to Data schema (provided into project instructions).</p>\n",
    "<p>The only modifcation linked to issues observed in the sample are:</p>\n",
    "<ul>\n",
    "<li>the type of tag with <strong><span style=\"color: #0000ff;\"><em>addr</em> </span></strong>substring\n",
    "<ul>\n",
    "<li><em><strong><span style=\"color: #0000ff;\">addr</span></strong></em>:city will be split into 2 substrings with the first one as tag <strong><span style=\"color: #0000ff;\"><em>type</em> </span></strong>and the second as <strong><span style=\"color: #0000ff;\"><em>key </em></span></strong><span style=\"color: #0000ff;\"><em><span style=\"color: #000000;\">(even if a : is present into the second sub string)</span></em></span></li>\n",
    "</ul>\n",
    "</li>\n",
    "<li>tag properties <strong><span style=\"color: #0000ff;\">k</span></strong> and <strong><span style=\"color: #0000ff;\">v</span></strong> will be mapped with <strong><span style=\"color: #0000ff;\">key</span> </strong>and <strong><span style=\"color: #0000ff;\">value</span> </strong>as requested in SQL schema</li>\n",
    "</ul> "
   ]
  },
  {
   "cell_type": "code",
   "execution_count": 2,
   "metadata": {
    "collapsed": false
   },
   "outputs": [
    {
     "name": "stdout",
     "output_type": "stream",
     "text": [
      "Creating node table...\n",
      "Creating node table done\n",
      "Creating node tag table...\n",
      "Creating node tag table done\n",
      "Creating ways table...\n",
      "Creating ways table done\n",
      "Creating ways tag table...\n",
      "Creating ways tag table done\n",
      "Creating ways node...\n",
      "Creating ways nodes done\n"
     ]
    }
   ],
   "source": [
    "import csv\n",
    "\n",
    "############## Function that creates csv files with first level tags ##############\n",
    "##### This function get the given first level tags and generates csv files #####\n",
    "\n",
    "def create_table(osm_file,csv_file,fieldnames,tag,k):\n",
    "    with open(csv_file, 'wb') as csvfile:\n",
    "                \n",
    "        writer = csv.DictWriter(csvfile, fieldnames=fieldnames)\n",
    "\n",
    "        writer.writeheader()\n",
    "    \n",
    "        for i, element in enumerate(get_element(OSM_FILE,tag)):\n",
    "            if i % k == 0:\n",
    "                entry={}\n",
    "\n",
    "                for key in element.attrib.keys():\n",
    "\n",
    "                    entry[key]=element.attrib[key].encode('utf-8')\n",
    "                writer.writerow(entry)    \n",
    "\n",
    "############## Function that creates csv files with second level tags ##############\n",
    "##### This function get the given second level tags and generates csv files\n",
    "##### This function is enriched as well with a mapping function k<=>key, v <=> value\n",
    "##### Moreover, this function get the 'type' pattern from the code and injected into the csv file in the 'type' collumn'\n",
    "\n",
    "def create_table_tags(osm_file,csv_file,fieldnames,tag,k):\n",
    "    with open(csv_file, 'wb') as csvfile:\n",
    "                \n",
    "        writer = csv.DictWriter(csvfile, fieldnames=fieldnames)\n",
    "\n",
    "        writer.writeheader()\n",
    "    \n",
    "        for i, element in enumerate(get_element(OSM_FILE,tag)):\n",
    "            if i % k == 0:\n",
    "\n",
    "                for elem in element.iter(\"tag\"):\n",
    "                    entry={}\n",
    "                    for key in elem.attrib.keys():\n",
    "                        # mapping k<=> key\n",
    "                        if key=='k':\n",
    "                            o='key'\n",
    "                        # mapping v<=> value\n",
    "                        elif key=='v':\n",
    "                            o='value'\n",
    "                        else:\n",
    "                            o=key\n",
    "                        entry[o]=elem.attrib[key].encode('utf-8')\n",
    "                        if key==\"k\" :\n",
    "                            if \":\" in elem.attrib[key]: #extract of tag type from k field\n",
    "                                entry['type']=elem.attrib[key].split(\":\")[0].encode('utf-8')    \n",
    "                                entry[o]=elem.attrib[key].split(\":\")[1].encode('utf-8')   \n",
    "                    entry['id']=element.attrib['id'].encode('utf-8')                  \n",
    "                    writer.writerow(entry)  \n",
    "\n",
    "############## Function that creates csv files with second level tags correspondinf ways nodes ##############\n",
    "##### This function get the given second level tags labbeled nodes and generates csv files #####\n",
    "\n",
    "def create_ways_node(osm_file,csv_file,fieldnames,tag,k):\n",
    "    with open(csv_file, 'wb') as csvfile:\n",
    "        writer = csv.DictWriter(csvfile, fieldnames=fieldnames)\n",
    "        writer.writeheader()\n",
    "    \n",
    "        for i, element in enumerate(get_element(OSM_FILE,tag)):\n",
    "            if i % k == 0:\n",
    "                identifier=element.attrib[\"id\"]\n",
    "                for elem in element.iter(\"nd\"):\n",
    "                    entry={}\n",
    "                    entry[\"id\"]=identifier.encode('utf-8')\n",
    "                    entry[\"node_id\"]=elem.attrib[\"ref\"].encode('utf-8')\n",
    "                    writer.writerow(entry) \n",
    "\n",
    "\n",
    "############## CSV files creation ##############\n",
    "def tables_creation(k=1,osm_file='Colomiers.osm',csv_file_nodes='nodes.csv',csv_file_nodes_tags='nodes_tags.csv',csv_file_ways='ways.csv',csv_file_ways_tags='ways_tags.csv',csv_file_ways_nodes='ways_nodes.csv'):\n",
    "\n",
    "\n",
    "                    \n",
    "    ################ Create nodes table ################\n",
    "    print 'Creating node table...'\n",
    "\n",
    "    fieldnames = ['id', 'lat','lon','user','uid','version','changeset','timestamp']\n",
    "    tag='node'\n",
    "\n",
    "    create_table(osm_file,csv_file_nodes,fieldnames,tag,k)\n",
    "    print 'Creating node table done'\n",
    "\n",
    "    ################ Create nodes tag table ################\n",
    "    print 'Creating node tag table...'\n",
    "    fieldnames = ['id', 'key','value','type']\n",
    "    tag='node'\n",
    "\n",
    "    create_table_tags(osm_file,csv_file_nodes_tags,fieldnames,tag,k)\n",
    "    print 'Creating node tag table done'\n",
    "\n",
    "    ################ Create ways table ################\n",
    "\n",
    "    print 'Creating ways table...'\n",
    "    fieldnames = ['id', 'user','uid','version','changeset','timestamp']\n",
    "    tag='way'\n",
    "\n",
    "    create_table(osm_file,csv_file_ways_tags,fieldnames,tag,k)\n",
    "    print 'Creating ways table done'\n",
    "\n",
    "    ################ Create ways tags table ################\n",
    "    print 'Creating ways tag table...'\n",
    "    fieldnames = ['id', 'key','value','type']\n",
    "    tag='ways'\n",
    "\n",
    "    create_table_tags(osm_file,csv_file_ways_tags,fieldnames,tag,k)\n",
    "    print 'Creating ways tag table done'\n",
    "\n",
    "    ################ Create ways node table ################\n",
    "    print 'Creating ways node...'\n",
    "    fieldnames = ['id', 'node_id']\n",
    "    tag='ways'\n",
    "\n",
    "    create_ways_node(osm_file,csv_file_ways_nodes,fieldnames,tag,k)\n",
    "    print 'Creating ways nodes done'\n",
    "\n",
    "           \n",
    "    \n",
    "############## Main ##############\n",
    "\n",
    "tables_creation()"
   ]
  },
  {
   "cell_type": "markdown",
   "metadata": {},
   "source": [
    "<p>As an output, we have several csv files corresponding to SQL schema provided in project instructions:&nbsp;</p>\n",
    "<ul>\n",
    "<li><em>nodes.csv</em></li>\n",
    "<li><em>nodes_tags.csv</em></li>\n",
    "<li><em>ways.csv</em></li>\n",
    "<li><em>ways_tags.csv</em></li>\n",
    "<li><em>ways_nodes.csv</em></li>\n",
    "</ul>"
   ]
  },
  {
   "cell_type": "markdown",
   "metadata": {},
   "source": [
    "## 4)  Import into Database"
   ]
  },
  {
   "cell_type": "markdown",
   "metadata": {},
   "source": [
    "<p>After creating csv files, I import them into SQLlite Data Base thanks to pandas python library.</p>\n",
    "<p>I do in two steps:</p>\n",
    "<ol>\n",
    "<li>creation of&nbsp;SQL schemas</li>\n",
    "<li>Import of csv files into DB thanks to pandas dataframe</li>\n",
    "</ol>"
   ]
  },
  {
   "cell_type": "code",
   "execution_count": 3,
   "metadata": {
    "collapsed": false
   },
   "outputs": [],
   "source": [
    "import sqlite3\n",
    "\n",
    "\n",
    "def sql_creation():\n",
    "    ################# Connect the Data Base 'OSM.db' ################\n",
    "    conn = sqlite3.connect('OSM.db')\n",
    "\n",
    "    c = conn.cursor()\n",
    "\n",
    "    ################# Clean the pre-existing tables ################\n",
    "    c.execute('''DROP TABLE nodes;''')\n",
    "    c.execute('''DROP TABLE nodes_tags;''')\n",
    "    c.execute('''DROP TABLE ways;''')\n",
    "    c.execute('''DROP TABLE ways_tags;''')\n",
    "    c.execute('''DROP TABLE ways_nodes;''')\n",
    "\n",
    "    ################# Create tables ################\n",
    "\n",
    "\n",
    "    ### Create table nodes ###\n",
    "    c.execute('''CREATE TABLE nodes (\n",
    "        id INTEGER PRIMARY KEY NOT NULL,\n",
    "        lat REAL,\n",
    "        lon REAL,\n",
    "        user TEXT,\n",
    "        uid INTEGER,\n",
    "        version INTEGER,\n",
    "        changeset INTEGER,\n",
    "        timestamp DATE\n",
    "    );''')\n",
    "\n",
    "    ### Create table tags nodes ###\n",
    "    c.execute('''CREATE TABLE nodes_tags (\n",
    "        id INTEGER,\n",
    "        key TEXT,\n",
    "        value TEXT,\n",
    "        type TEXT,\n",
    "        FOREIGN KEY (id) REFERENCES nodes(id)\n",
    "    );''')\n",
    "\n",
    "    ### Create table ways ###\n",
    "    c.execute('''CREATE TABLE ways (\n",
    "        id INTEGER PRIMARY KEY NOT NULL,\n",
    "        user TEXT,\n",
    "        uid INTEGER,\n",
    "        version TEXT,\n",
    "        changeset INTEGER,\n",
    "        timestamp DATE\n",
    "    );''')\n",
    "\n",
    "    ### Create table tags ways ###\n",
    "    c.execute('''CREATE TABLE ways_tags (\n",
    "        id INTEGER NOT NULL,\n",
    "        key TEXT NOT NULL,\n",
    "        value TEXT NOT NULL,\n",
    "        type TEXT,\n",
    "        FOREIGN KEY (id) REFERENCES ways(id)\n",
    "    );''')\n",
    "\n",
    "    ### Create table ways nodes ###\n",
    "    c.execute('''CREATE TABLE ways_nodes (\n",
    "        id INTEGER NOT NULL,\n",
    "        node_id INTEGER NOT NULL,\n",
    "        FOREIGN KEY (id) REFERENCES ways(id),\n",
    "        FOREIGN KEY (node_id) REFERENCES nodes(id)\n",
    "    );''')\n",
    "\n",
    "\n",
    "    conn.close()\n",
    "\n",
    "    \n",
    "    \n",
    "    \n",
    "############## Main ##############\n",
    "\n",
    "sql_creation()"
   ]
  },
  {
   "cell_type": "markdown",
   "metadata": {},
   "source": [
    "In opposition of Project instructions, I decided to not add position parameter into Ways nodes table because I don't get the benefit to add this parameter in this table.\n",
    "\n",
    "Indeed, precise position parameters are already in nodes table (lat, long) and nodes are already referenced into ways nodes table. It is in opposition of normalization rules that are to not have redondant information."
   ]
  },
  {
   "cell_type": "code",
   "execution_count": 4,
   "metadata": {
    "collapsed": false
   },
   "outputs": [
    {
     "name": "stdout",
     "output_type": "stream",
     "text": [
      "Importing nodes.csv ...\n",
      "Import done\n",
      "Importing nodes_tags.csv ...\n",
      "Import done\n",
      "Importing ways.csv ...\n",
      "Import done\n",
      "Importing ways_tags.csv ...\n",
      "Import done\n",
      "Importing ways_nodes.csv ...\n",
      "Import done\n"
     ]
    }
   ],
   "source": [
    "import pandas as pd\n",
    "import numpy as np\n",
    "import matplotlib.pyplot as plt\n",
    "\n",
    "def import_sql(csv_file_nodes='nodes.csv',csv_file_nodes_tags='nodes_tags.csv',csv_file_ways='ways.csv',csv_file_ways_tags='ways_tags.csv',csv_file_ways_nodes='ways_nodes.csv'):\n",
    "    ################# Connect the Data Base 'OSM.db' ################\n",
    "    conn = sqlite3.connect('OSM.db')\n",
    "    conn.text_factory = str\n",
    "    c = conn.cursor()\n",
    "\n",
    "    ### Import table nodes ###\n",
    "    print \"Importing\",csv_file_nodes,\"...\"\n",
    "    df = pd.read_csv(csv_file_nodes)\n",
    "    df.to_sql('nodes', conn, if_exists='append', index=False)\n",
    "    print \"Import done\"\n",
    "\n",
    "    ### Import table nodes tags ###\n",
    "    print \"Importing\",csv_file_nodes_tags,\"...\"\n",
    "    df = pd.read_csv(csv_file_nodes_tags)\n",
    "    df.to_sql('nodes_tags', conn, if_exists='append', index=False)\n",
    "    print \"Import done\"\n",
    "\n",
    "    ### Import table ways ###\n",
    "    print \"Importing\",csv_file_ways,\"...\"\n",
    "    df = pd.read_csv(csv_file_ways)\n",
    "    df.to_sql('ways', conn, if_exists='append', index=False)\n",
    "    print \"Import done\"\n",
    "\n",
    "    ### Import table ways tags ###\n",
    "    print \"Importing\",csv_file_ways_tags,\"...\"\n",
    "    df = pd.read_csv(csv_file_ways_tags)\n",
    "    df.to_sql('ways_tags', conn, if_exists='append', index=False)\n",
    "    print \"Import done\"\n",
    "\n",
    "    ### Import table ways nodes ###\n",
    "    print \"Importing\",csv_file_ways_nodes,\"...\"\n",
    "    df = pd.read_csv(csv_file_ways_nodes)\n",
    "    df.to_sql('ways_nodes', conn, if_exists='append', index=False)\n",
    "    print \"Import done\"\n",
    "\n",
    "\n",
    "    conn.close()\n",
    "\n",
    "############## Main ##############\n",
    "\n",
    "import_sql()"
   ]
  },
  {
   "cell_type": "markdown",
   "metadata": {
    "collapsed": true
   },
   "source": [
    "# 5)  First analysis from Database"
   ]
  },
  {
   "cell_type": "markdown",
   "metadata": {},
   "source": [
    "Once data imported into SQL database, we can analyse the data.\n",
    "\n",
    "For that, I develop a Python function that will display Top 10 for users, city, postcode and street types. That will enable me to see if there is some obvious issues with data."
   ]
  },
  {
   "cell_type": "code",
   "execution_count": 5,
   "metadata": {
    "collapsed": false
   },
   "outputs": [
    {
     "name": "stdout",
     "output_type": "stream",
     "text": [
      "\n",
      "Top 10 users:\n",
      "(1)Chouloute:\t133728\n",
      "(2)Pinpin:\t63126\n",
      "(3)sebastien31:\t13138\n",
      "(4)awikatchikaen:\t10876\n",
      "(5)PierenBot:\t8673\n",
      "(6)overflorian:\t7193\n",
      "(7)the_knife:\t6130\n",
      "(8)petrovsk:\t4613\n",
      "(9)didier2020:\t4243\n",
      "(10)ger4rd:\t3422\n",
      "(11)Jenifer:\t3318\n",
      "(12)orhygine:\t3218\n",
      "(13)don-vip:\t3007\n",
      "(14)Rigomap:\t2463\n",
      "(15)user_870861:\t2421\n",
      "\n",
      "\tTotal:\t293713\n",
      "\n",
      "Top 10 postcode:\n",
      "(1)31770:\t65\n",
      "(2)31300:\t33\n",
      "(3)31170:\t13\n",
      "(4)31820:\t6\n",
      "(5)31000:\t1\n",
      "(6)31776:\t1\n",
      "\n",
      "\tTotal:\t119\n",
      "\n",
      "Top 10 city:\n",
      "(1)Toulouse:\t57\n",
      "(2)Colomiers:\t42\n",
      "(3)Tournefeuille:\t8\n",
      "(4)COLOMIERS:\t6\n",
      "(5)Pibrac:\t4\n",
      "\n",
      "\tTotal:\t117\n",
      "\n",
      "Top 10 street type:\n",
      "(1)Allée:\t79\n",
      "(2)Avenue:\t1\n",
      "(3)Passage:\t9\n",
      "(4)Place:\t7\n",
      "(5)Rue:\t3\n",
      "(6)place:\t1\n",
      "\n",
      "\tTotal:\t100\n",
      "\n",
      "Top 10 source:\n",
      "(1)cadastre-dgi-fr source : Direction Générale des Impôts - Cadastre. Mise à jour : 2010:\t31653\n",
      "(2)cadastre-dgi-fr source : Direction Générale des Impôts - Cadastre. Mise à jour : 2009:\t2212\n",
      "(3)cadastre-dgi-fr source : Direction Générale des Finances Publiques - Cadastre. Mise à jour : 2015:\t1330\n",
      "(4)cadastre-dgi-fr source : Direction Générale des Finances Publiques - Cadastre. Mise à jour : 2014:\t1202\n",
      "(5)cadastre-dgi-fr source : Direction Générale des Impôts - Cadastre. Mise à jour : 2011:\t811\n",
      "(6)Toulouse - Orthophotoplan 2013:\t445\n",
      "(7)Bing:\t362\n",
      "(8)ToulouseMetropole:\t358\n",
      "(9)bing:\t235\n",
      "(10)cadastre-dgi-fr source : Direction Générale des Impôts - Cadastre. Mise à jour : 2012:\t212\n",
      "\n",
      "\tTotal:\t40409\n"
     ]
    }
   ],
   "source": [
    "def display(result):\n",
    "    j=1\n",
    "    for i in result:\n",
    "        #print i[0],\":\",i[1]\n",
    "        print '({}){}:\\t{}'.format(j,i[0],i[1])\n",
    "        j+=1\n",
    "        \n",
    "def display_total(result):\n",
    "    for i in result:\n",
    "        print '\\n\\tTotal:\\t{}'.format(i[0])\n",
    "    \n",
    "\n",
    "def top_sql():\n",
    "    conn = sqlite3.connect('OSM.db')\n",
    "    conn.text_factory = str\n",
    "    c = conn.cursor()\n",
    "\n",
    "\n",
    "    ### Show top 15 users ###\n",
    "    result=c.execute('''SELECT user,count(user) from (select user from nodes UNION ALL select user from ways) group by user order by count(user) desc limit 15\n",
    "    ;''')\n",
    "    print \"\\nTop 10 users:\"\n",
    "    display(result)\n",
    "\n",
    "    result=c.execute('''SELECT count(user) from (select user from nodes UNION ALL select user from ways)\n",
    "    ;''')\n",
    "    display_total(result)\n",
    "\n",
    "    ### Show top 10 postcode ###\n",
    "    result=c.execute('''SELECT value,count(value) from (select * from nodes_tags UNION ALL select * from ways_tags) where key='postcode' group by value order by count(value) desc limit 10\n",
    "    ;''')\n",
    "    print \"\\nTop 10 postcode:\"\n",
    "    display(result)\n",
    "    \n",
    "    result=c.execute('''SELECT count(value) from (select * from nodes_tags UNION ALL select * from ways_tags) where key='postcode' \n",
    "    ;''')\n",
    "    display_total(result)\n",
    "\n",
    "    ### Show top 10 city ###\n",
    "    result=c.execute('''SELECT value,count(value) from (select * from nodes_tags UNION ALL select * from ways_tags) where key='city' group by value order by count(value) desc limit 10\n",
    "    ;''')\n",
    "    print \"\\nTop 10 city:\"\n",
    "    display(result)\n",
    "    \n",
    "    result=c.execute('''SELECT count(value) from (select * from nodes_tags UNION ALL select * from ways_tags) where key='city'\n",
    "    ;''')\n",
    "    display_total(result)\n",
    "    \n",
    "    \n",
    "    ### Show top 10 street type ###\n",
    "    result=c.execute('''SELECT type,count(type) from (SELECT SUBSTR(value,0,INSTR( value , \" \" )) as type from(select * from nodes_tags UNION ALL select * from ways_tags) where key='street' limit 100) group by type;''')\n",
    "    print \"\\nTop 10 street type:\"\n",
    "    display(result)\n",
    "\n",
    "    result=c.execute('''SELECT count(type) from (SELECT SUBSTR(value,0,INSTR( value , \" \" )) as type from(select * from nodes_tags UNION ALL select * from ways_tags) where key='street' limit 100) ;''')\n",
    "    display_total(result)\n",
    "        \n",
    "    ### Show top 10 source ###\n",
    "    result=c.execute('''SELECT value,count(value) from (select * from nodes_tags UNION ALL select * from ways_tags) where key='source' group by value order by count(value) desc limit 10\n",
    "    ;''')\n",
    "    print \"\\nTop 10 source:\"\n",
    "    display(result)\n",
    "\n",
    "    result=c.execute('''SELECT count(value) from (select * from nodes_tags UNION ALL select * from ways_tags) where key='source'\n",
    "    ;''')\n",
    "    display_total(result)\n",
    "\n",
    "\n",
    "\n",
    "    conn.close()\n",
    "\n",
    "############## Main ##############\n",
    "\n",
    "top_sql()"
   ]
  },
  {
   "cell_type": "markdown",
   "metadata": {
    "collapsed": true
   },
   "source": [
    "<p><span style=\"text-decoration: underline;\"><strong>Analysis:</strong></span></p>\n",
    "<ul>\n",
    "<li style=\"padding-left: 30px;\">On top users, except 'Chouloute' extra number of inputs, nothing to report</li>\n",
    "<li style=\"padding-left: 30px;\">On top postcodes, it is interesting to observe that not only Colomiers postal code is represented (31770), Tournefeuille (31170) and Toulouse (31300&amp;31000) are numberous as well. That could be explained by the fact Tournefeuille and Colomiers are neighbours of Colomiers. Same for Pibrac (31820) but with less quantity. 31776 corresponds to Colomiers with a different format. I will analyse afterwards.</li>\n",
    "<li style=\"padding-left: 30px;\">On top city, same observation as for postal code, Colomiers represents half of references. As I noticed in the first analysis from the sample, Colomiers with Upper and Lower cases that make two entries into Data Base. I propose to clean it afterwards.</li>\n",
    "<li style=\"padding-left: 30px;\">On top street types, we can see there are only 6 entries. There is one issue related to sensitive case (Place and place). I will fix it in next section</li>\n",
    "<li style=\"padding-left: 30px;\">On top sources, Cadastre (ie. the register of the real estate or real property's metes-and-bounds of France) is the top listed that is normal because it is its primary function. Nothing else interesting to notice</li>\n",
    "</ul>\n",
    "<p><span style=\"text-decoration: underline;\"><strong>Synthesis:</strong></span></p>\n",
    "<ul>\n",
    "<li>No big issues on top parameters analysis, the dataset seems to be well built</li>\n",
    "</ul>"
   ]
  },
  {
   "cell_type": "markdown",
   "metadata": {},
   "source": [
    "## 4)  Cleaning of Dataset"
   ]
  },
  {
   "cell_type": "markdown",
   "metadata": {},
   "source": [
    "In this chapter, I propose to clean the data in the csv creation step. The advantage is I have just to adapt my code. Moreover, as the OSM dataset is pretty clean I will have only a few correction to do.\n",
    "\n",
    "I create a new function named 'csv_data_cleaning' that will get a csv file produced by python code, apply some modifications and output a new csv file I will import into a new SQLite DataBase (in fact, I drop all the existing tables in the existing DB and I import again with modified csv files).\n",
    "\n",
    "a) City and street type modification\n",
    "\n",
    "On first analysis, we noticed that both city entries were different because our code was sensitive to upper/lower cases. Same for street types.\n",
    "\n",
    "I propose to use string.capitalize() function to have the first letter of city in capitize letter and the rest lowercased."
   ]
  },
  {
   "cell_type": "code",
   "execution_count": 6,
   "metadata": {
    "collapsed": false
   },
   "outputs": [
    {
     "name": "stdout",
     "output_type": "stream",
     "text": [
      "Clean data from nodes_tags.csv to nodes_tags_cleaned.csv...\n",
      "Clean data... done\n",
      "Clean data from ways_tags.csv to ways_tags_cleaned.csv...\n",
      "Clean data... done\n"
     ]
    }
   ],
   "source": [
    "def name_cleaning(city_name):\n",
    "    return city_name.capitalize() \n",
    "\n",
    "def csv_data_cleaning(csv_file_source,csv_file_dest):\n",
    "    print 'Clean data from {} to {}...'.format(csv_file_source,csv_file_dest) \n",
    "    with open(csv_file_dest,'wb') as csvfile_dest:\n",
    "        with open(csv_file_source,'rb') as csvfile_source:\n",
    "            reader = csv.DictReader(csvfile_source)\n",
    "            writer = csv.DictWriter(csvfile_dest, reader.fieldnames)\n",
    "            writer.writeheader()\n",
    "            for row_source in reader:\n",
    "                row_destination=row_source\n",
    "                for cell in row_destination.keys():\n",
    "                    if cell=='key':\n",
    "                        # Cleaning of city names\n",
    "                        if row_destination['key']=='city':\n",
    "                            row_destination['value']=name_cleaning(row_destination['value'])\n",
    "                        # Cleaning of street type\n",
    "                        elif row_destination['key']=='street': \n",
    "                            row_destination['value']=name_cleaning(row_destination['value'])\n",
    "                            street_type=row_destination['value'].split(\" \")[0]\n",
    "                            \n",
    "                writer.writerow(row_destination)\n",
    "    print 'Clean data... done'\n",
    "\n",
    "\n",
    "############## Main ##############\n",
    "\n",
    "csv_data_cleaning('nodes_tags.csv','nodes_tags_cleaned.csv')\n",
    "csv_data_cleaning('ways_tags.csv','ways_tags_cleaned.csv')"
   ]
  },
  {
   "cell_type": "code",
   "execution_count": 7,
   "metadata": {
    "collapsed": false,
    "scrolled": false
   },
   "outputs": [
    {
     "name": "stdout",
     "output_type": "stream",
     "text": [
      "Importing nodes.csv ...\n",
      "Import done\n",
      "Importing nodes_tags_cleaned.csv ...\n",
      "Import done\n",
      "Importing ways.csv ...\n",
      "Import done\n",
      "Importing ways_tags_cleaned.csv ...\n",
      "Import done\n",
      "Importing ways_nodes.csv ...\n",
      "Import done\n",
      "\n",
      "Top 10 users:\n",
      "(1)Chouloute:\t133728\n",
      "(2)Pinpin:\t63126\n",
      "(3)sebastien31:\t13138\n",
      "(4)awikatchikaen:\t10876\n",
      "(5)PierenBot:\t8673\n",
      "(6)overflorian:\t7193\n",
      "(7)the_knife:\t6130\n",
      "(8)petrovsk:\t4613\n",
      "(9)didier2020:\t4243\n",
      "(10)ger4rd:\t3422\n",
      "(11)Jenifer:\t3318\n",
      "(12)orhygine:\t3218\n",
      "(13)don-vip:\t3007\n",
      "(14)Rigomap:\t2463\n",
      "(15)user_870861:\t2421\n",
      "\n",
      "\tTotal:\t293713\n",
      "\n",
      "Top 10 postcode:\n",
      "(1)31770:\t65\n",
      "(2)31300:\t33\n",
      "(3)31170:\t13\n",
      "(4)31820:\t6\n",
      "(5)31000:\t1\n",
      "(6)31776:\t1\n",
      "\n",
      "\tTotal:\t119\n",
      "\n",
      "Top 10 city:\n",
      "(1)Toulouse:\t57\n",
      "(2)Colomiers:\t48\n",
      "(3)Tournefeuille:\t8\n",
      "(4)Pibrac:\t4\n",
      "\n",
      "\tTotal:\t117\n",
      "\n",
      "Top 10 street type:\n",
      "(1)Allée:\t79\n",
      "(2)Avenue:\t1\n",
      "(3)Passage:\t9\n",
      "(4)Place:\t8\n",
      "(5)Rue:\t3\n",
      "\n",
      "\tTotal:\t100\n",
      "\n",
      "Top 10 source:\n",
      "(1)cadastre-dgi-fr source : Direction Générale des Impôts - Cadastre. Mise à jour : 2010:\t31653\n",
      "(2)cadastre-dgi-fr source : Direction Générale des Impôts - Cadastre. Mise à jour : 2009:\t2212\n",
      "(3)cadastre-dgi-fr source : Direction Générale des Finances Publiques - Cadastre. Mise à jour : 2015:\t1330\n",
      "(4)cadastre-dgi-fr source : Direction Générale des Finances Publiques - Cadastre. Mise à jour : 2014:\t1202\n",
      "(5)cadastre-dgi-fr source : Direction Générale des Impôts - Cadastre. Mise à jour : 2011:\t811\n",
      "(6)Toulouse - Orthophotoplan 2013:\t445\n",
      "(7)Bing:\t362\n",
      "(8)ToulouseMetropole:\t358\n",
      "(9)bing:\t235\n",
      "(10)cadastre-dgi-fr source : Direction Générale des Impôts - Cadastre. Mise à jour : 2012:\t212\n",
      "\n",
      "\tTotal:\t40409\n"
     ]
    }
   ],
   "source": [
    "sql_creation()\n",
    "import_sql(csv_file_nodes='nodes.csv',csv_file_nodes_tags='nodes_tags_cleaned.csv',csv_file_ways='ways.csv',csv_file_ways_tags='ways_tags_cleaned.csv',csv_file_ways_nodes='ways_nodes.csv')\n",
    "top_sql()"
   ]
  },
  {
   "cell_type": "markdown",
   "metadata": {
    "collapsed": true
   },
   "source": [
    "<p><span style=\"text-decoration: underline;\"><strong>Analysis:</strong></span></p>\n",
    "<ul>\n",
    "<li>The few corrections have been done and give the good results</li>\n",
    "<li>Nothing more to report on users, postcode and city</li>\n",
    "<li>On street types, it is interresting that the majority of street type are \"All&eacute;e\" (ie. Alley) whereas it should be \"Rue\" (ie. Street) as most of street are \"Rue\". That could be explained by the fact that users focus on main street and not on small street (\"Rue\")</li>\n",
    "<li>On top source, we can see we have update date in most of cases, I propose to make a last study on this item in order to check if this dataset is uptodate</li>\n",
    "</ul>\n",
    "<p><br /><span style=\"text-decoration: underline;\"><strong>Synthesis:</strong></span></p>\n",
    "<ul>\n",
    "<li>This OSM dataset seems far cleaner as examples during udacity course</li>\n",
    "</ul>"
   ]
  },
  {
   "cell_type": "markdown",
   "metadata": {
    "collapsed": true
   },
   "source": [
    "## 5)  Last analysis"
   ]
  },
  {
   "cell_type": "markdown",
   "metadata": {},
   "source": [
    "<p>On this last chapter, I propose to check <strong>date </strong>related to <strong>source </strong>tag in the dataset. It will enable to give a status about how uptodate the dataset is.</p>\n",
    "<p>For this, I propose to extract the date from:</p>\n",
    "<ul>\n",
    "<li>the value of '<strong>source_date'</strong> tag in nodes_tags and ways_tags tables.\n",
    "<ul>\n",
    "<li>&lt;tag k=\"<strong>source_date\"</strong> v=\"<strong>04/04/2012</strong>\" /&gt;</li>\n",
    "<li>To notice that date could be under different formats:\n",
    "<ul>\n",
    "<li>18/03/2013</li>\n",
    "<li>2017-09-04</li>\n",
    "<li>10/2016</li>\n",
    "<li>But as the year is only interesting for my topic, I choose to use a regular expression to match the year: <em>\"^(19|20)\\d{2}\\$</em>\"&nbsp;</li>\n",
    "</ul>\n",
    "</li>\n",
    "</ul>\n",
    "</li>\n",
    "</ul>\n",
    "<ul>\n",
    "<li>the string of '<strong>source</strong>' tag in nodes_tags and ways_tags tables.\n",
    "<ul>\n",
    "<li>&lt;tag k=\"<strong>source\"</strong> v=\"cadastre-dgi-fr source : Direction G&eacute;n&eacute;rale des Imp&ocirc;ts - Cadastre. Mise &agrave; jour : <strong>2009</strong>\" /&gt;</li>\n",
    "<li>I use the&nbsp;same&nbsp;regular expression to match the year: <em>\"^(19|20)\\d{2}$\"</em></li>\n",
    "</ul>\n",
    "</li>\n",
    "</ul>\n",
    "<ul>\n",
    "</ul>"
   ]
  },
  {
   "cell_type": "code",
   "execution_count": 8,
   "metadata": {
    "collapsed": false
   },
   "outputs": [
    {
     "name": "stdout",
     "output_type": "stream",
     "text": [
      "2016 212\n",
      "2015 1633\n",
      "2014 1303\n",
      "2013 726\n",
      "2012 378\n",
      "2011 871\n",
      "2010 31692\n",
      "2009 2235\n",
      "2008 24\n",
      "\n",
      "Total source tag with year:39074\n"
     ]
    }
   ],
   "source": [
    "import re\n",
    "from collections import Counter\n",
    "\n",
    "def display_year(result):\n",
    "    keylist =result.keys()\n",
    "    keylist.sort(reverse=True)\n",
    "    for i in keylist:\n",
    "        print i,result[i]\n",
    "\n",
    "x=[]\n",
    "\n",
    "### Connection to Data Base ###\n",
    "conn = sqlite3.connect('OSM.db')\n",
    "conn.text_factory = str\n",
    "c = conn.cursor()\n",
    "\n",
    "### Extract year from source tag value ###\n",
    "result=c.execute('''SELECT value from (select * from nodes_tags UNION ALL select * from ways_tags) where key='source';''')\n",
    "j=0\n",
    "for i in result:  \n",
    "    m = re.search('(19|20)\\d{2}$',i[0])\n",
    "    if m:\n",
    "        x.append(m.group(0))\n",
    "\n",
    "## Extract year from source_date tag value ###\n",
    "result=c.execute('''SELECT value from (select * from nodes_tags UNION ALL select * from ways_tags) where key='source_date';''')\n",
    "j=0\n",
    "for i in result:  \n",
    "    m = re.search('(19|20)\\d{2}$',i[0])\n",
    "    if m:\n",
    "        x.append(m.group(0))\n",
    "\n",
    "#Display of the year\n",
    "display_year(dict(Counter(x)))\n",
    "print '\\nTotal source tag with year:{}'.format(len(x))\n",
    "conn.close()\n"
   ]
  },
  {
   "cell_type": "markdown",
   "metadata": {},
   "source": [
    "<p><span style=\"text-decoration: underline;\"><strong>Analysis:</strong></span></p>\n",
    "<ul>\n",
    "<li>It appears that data are quite old since the main part of data are from 2010 (ie. 7 years old)</li>\n",
    "</ul>"
   ]
  },
  {
   "cell_type": "markdown",
   "metadata": {},
   "source": [
    "## 6)  Conclusions"
   ]
  },
  {
   "cell_type": "markdown",
   "metadata": {},
   "source": [
    "Thanks to analysis, we have checked quality from an extract of Open Street dataset and analyse some items.\n",
    "\n",
    "- The extract from Metro extract is too large in comparison of study topic (Colomiers town), neighbouroud cities have been incorporated too much\n",
    "- The quality of the data is quite good as only a few of modifications have been needed\n",
    "- The common mistake of case sencitiveness could be preventer by a systematic cleaning routine that could enforce rules for every entries\n",
    "- The data is quite old since most of information are 7 years old\n"
   ]
  }
 ],
 "metadata": {
  "kernelspec": {
   "display_name": "Python 2",
   "language": "python",
   "name": "python2"
  },
  "language_info": {
   "codemirror_mode": {
    "name": "ipython",
    "version": 2
   },
   "file_extension": ".py",
   "mimetype": "text/x-python",
   "name": "python",
   "nbconvert_exporter": "python",
   "pygments_lexer": "ipython2",
   "version": "2.7.13"
  }
 },
 "nbformat": 4,
 "nbformat_minor": 2
}
